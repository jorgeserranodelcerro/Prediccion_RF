{
 "cells": [
  {
   "cell_type": "code",
   "execution_count": 72,
   "metadata": {},
   "outputs": [],
   "source": [
    "import numpy as np\n",
    "import pandas as pd\n",
    "import matplotlib.pyplot as plt\n",
    "from sklearn.decomposition import PCA\n",
    "from sklearn.preprocessing import StandardScaler\n",
    "from sklearn.ensemble import RandomForestClassifier\n",
    "from sklearn import metrics\n",
    "%matplotlib inline"
   ]
  },
  {
   "cell_type": "markdown",
   "metadata": {},
   "source": [
    "# Estructura\n",
    "1. [Introducción al problema](#intro)\n",
    "2. [Carga de los datos](#cargaDatos)\n",
    "3. [Comprensión de los datos](#Comprension)\n",
    "4. [Preparación de los datos](#Preparacion)\n",
    "5. [Modelado](#Modelo)\n",
    "6. [Conclusiones](#Conclusion)"
   ]
  },
  {
   "cell_type": "markdown",
   "metadata": {},
   "source": [
    "## Introducción al problema\n",
    "\n",
    "La Fundación Bill & Melinda Gates dispone un programa de Servicios Financieros dirigido a las personas más\n",
    "desfavorecidas del planeta. Con el objetivo de conocer las necesidades de la población, la Fundación ha realizado una\n",
    "encuesta sobre diferentes aspectos de la población India.\n",
    "El datasets contiene información demográfica y de comportamiento de una muestra\n",
    "representativa de encuestados de India y su uso de servicios financieros y móviles tradicionales. Las encuestas han sido\n",
    "realizadas por InterMedia para ayudar a las personas más pobres del mundo a aprovechar los teléfonos móviles y otras\n",
    "tecnologías digitales para acceder a herramientas financieras y participar más plenamente en sus economías locales. Las\n",
    "mujeres en estas comunidades, en particular, a menudo suelen estar excluidas del sistema financiero formal. Al predecir el\n",
    "género, y los patrones de comportamiento de hombres y mujeres es clave para la extraiga a seguir por los servicios\n",
    "financieros. Las conclusiones de estas investigaciones pueden influir en los planes de mejora de estas barreras que\n",
    "disponen las mujeres en las economías en desarrollo y permitirá desarrollar nuevas herramientas financieras que ayude a\n",
    "las mujeres y a sus familias a salir de la pobreza.\n",
    "\n",
    "**Objetivo:**\n",
    "Analizar los datos y construir modelos de machine learning y estadísticos para\n",
    "predecir el género de cada encuestado."
   ]
  },
  {
   "cell_type": "markdown",
   "metadata": {},
   "source": [
    "<a id='cargaDatos'></a>\n",
    "## Carga de los datos"
   ]
  },
  {
   "cell_type": "code",
   "execution_count": 2,
   "metadata": {
    "scrolled": true
   },
   "outputs": [
    {
     "name": "stderr",
     "output_type": "stream",
     "text": [
      "/home/dsc/anaconda3/lib/python3.6/site-packages/IPython/core/interactiveshell.py:2728: DtypeWarning: Columns (12,49,51,56,91,126,145,163,165,166,167,168,169,171,173,174,176,177,242,244,246,248,252,255,274,290,291,292,294,295,296,332,344,366,374,376,397,414,440,491,620,634,639,642,643,645,710,713,760,769,810,829,929,954,979,1001,1002,1003,1004,1005,1024,1037,1041,1043,1062,1086,1099,1100,1121,1129,1136,1152,1153,1166,1168,1182,1193,1204,1205,1207,1208,1216,1226,1228,1230,1232,1234) have mixed types. Specify dtype option on import or set low_memory=False.\n",
      "  interactivity=interactivity, compiler=compiler, result=result)\n",
      "/home/dsc/anaconda3/lib/python3.6/site-packages/IPython/core/interactiveshell.py:2728: DtypeWarning: Columns (11,13,48,50,55,90,125,144,162,163,164,166,168,169,170,171,172,174,176,241,243,245,247,251,254,273,289,291,292,293,295,296,312,313,314,331,343,365,373,375,396,413,439,490,619,623,630,633,638,642,644,669,712,759,768,788,809,828,928,953,978,1000,1001,1002,1003,1004,1023,1036,1040,1042,1063,1085,1098,1099,1120,1128,1135,1151,1152,1165,1167,1181,1192,1204,1205,1206,1207,1215,1225,1227,1229,1231,1233) have mixed types. Specify dtype option on import or set low_memory=False.\n",
      "  interactivity=interactivity, compiler=compiler, result=result)\n"
     ]
    }
   ],
   "source": [
    "train = pd.read_csv('train.csv',sep =\",\")\n",
    "test = pd.read_csv('test.csv',sep =\",\")"
   ]
  },
  {
   "cell_type": "markdown",
   "metadata": {},
   "source": [
    "Unimos ambos ficheros para realizar todas las transformaciones sobre ambos a la vez. Al final los separaremos que los identificaremos por el campo is_female"
   ]
  },
  {
   "cell_type": "code",
   "execution_count": 3,
   "metadata": {},
   "outputs": [],
   "source": [
    "train['id']=train['train_id']\n",
    "train=train.drop('train_id', axis=1)\n",
    "test['id']=test['test_id']\n",
    "test=test.drop('test_id', axis=1)"
   ]
  },
  {
   "cell_type": "code",
   "execution_count": 4,
   "metadata": {
    "scrolled": true
   },
   "outputs": [
    {
     "data": {
      "text/plain": [
       "(18255, 1235)"
      ]
     },
     "execution_count": 4,
     "metadata": {},
     "output_type": "execute_result"
    }
   ],
   "source": [
    "train.shape"
   ]
  },
  {
   "cell_type": "code",
   "execution_count": 5,
   "metadata": {},
   "outputs": [],
   "source": [
    "test['is_female']=99"
   ]
  },
  {
   "cell_type": "code",
   "execution_count": 6,
   "metadata": {},
   "outputs": [
    {
     "data": {
      "text/plain": [
       "(27285, 1235)"
      ]
     },
     "execution_count": 6,
     "metadata": {},
     "output_type": "execute_result"
    }
   ],
   "source": [
    "test.shape"
   ]
  },
  {
   "cell_type": "code",
   "execution_count": 7,
   "metadata": {
    "scrolled": true
   },
   "outputs": [
    {
     "data": {
      "text/plain": [
       "(45540, 1235)"
      ]
     },
     "execution_count": 7,
     "metadata": {},
     "output_type": "execute_result"
    }
   ],
   "source": [
    "df_union=pd.concat([train,test])\n",
    "df_union.shape"
   ]
  },
  {
   "cell_type": "markdown",
   "metadata": {},
   "source": [
    "Como la variable objetivo es is_female vamos a ver si todos los registros del df tienen valores validos (0,1,99)."
   ]
  },
  {
   "cell_type": "code",
   "execution_count": 8,
   "metadata": {},
   "outputs": [
    {
     "data": {
      "text/plain": [
       "array([ 1,  0, 99])"
      ]
     },
     "execution_count": 8,
     "metadata": {},
     "output_type": "execute_result"
    }
   ],
   "source": [
    "df_union['is_female'].unique()"
   ]
  },
  {
   "cell_type": "markdown",
   "metadata": {},
   "source": [
    "<a id='Comprension'></a>\n",
    "## Comprension de los datos"
   ]
  },
  {
   "cell_type": "markdown",
   "metadata": {},
   "source": [
    "Debido al tiempo limitado y la imposibilidad de comprobar cada una de las variables para ver por que valor cambiar los nulos en cada caso vamos a eliminar aquellas columnas con gran cantidad de nulos (>10% de los registros). De esta forma eliminamos ruido a la hora de usar un modelo."
   ]
  },
  {
   "cell_type": "code",
   "execution_count": 9,
   "metadata": {},
   "outputs": [
    {
     "data": {
      "text/plain": [
       "AA14           45540\n",
       "AA15           45540\n",
       "AA3            45540\n",
       "AA4            45540\n",
       "AA5            14112\n",
       "AA6            31428\n",
       "AA7            45540\n",
       "DG1            45540\n",
       "DG10b          20596\n",
       "DG10c          17097\n",
       "DG11b          16441\n",
       "DG11c          13475\n",
       "DG12B_1        15654\n",
       "DG12B_2        15654\n",
       "DG12C_1        12822\n",
       "DG12C_2        12822\n",
       "DG13_1          8850\n",
       "DG13_2          8850\n",
       "DG13_3          8850\n",
       "DG13_4          8850\n",
       "DG13_5          8850\n",
       "DG13_7          8850\n",
       "DG13_96         8850\n",
       "DG13_OTHERS       20\n",
       "DG14            1785\n",
       "DG14_OTHERS       66\n",
       "DG3            45540\n",
       "DG3A           45540\n",
       "DG3A_OTHERS      137\n",
       "DG4            45540\n",
       "               ...  \n",
       "MT18_96        30391\n",
       "MT18_OTHERS      157\n",
       "MT1A           43625\n",
       "MT2            45540\n",
       "MT3_1          22401\n",
       "MT3_2          22401\n",
       "MT3_3          22401\n",
       "MT4_1          22401\n",
       "MT4_2          22401\n",
       "MT4_3          22401\n",
       "MT4_4          22401\n",
       "MT4_5          22401\n",
       "MT4_6          22401\n",
       "MT5            22401\n",
       "MT5_OTHERS        26\n",
       "MT6            22401\n",
       "MT6A           22401\n",
       "MT6A_OTHERS       62\n",
       "MT6B           22401\n",
       "MT6B_OTHERS        3\n",
       "MT6C           22401\n",
       "MT6_OTHERS        25\n",
       "MT7            23139\n",
       "MT7A            7990\n",
       "MT7A_OTHERS       48\n",
       "MT8             7990\n",
       "MT9            15149\n",
       "MT9_OTHERS        37\n",
       "id             45540\n",
       "is_female      45540\n",
       "Length: 1235, dtype: int64"
      ]
     },
     "execution_count": 9,
     "metadata": {},
     "output_type": "execute_result"
    }
   ],
   "source": [
    "df_union.count()"
   ]
  },
  {
   "cell_type": "markdown",
   "metadata": {},
   "source": [
    "Al ver los valores que toman las columnas vemos que muchas tienen nulos. Todas aquellas que el count nos da menor que 45540. Por lo que vamos a quedarnos con aquellas que tienen más de 41000 valores validos (aproximadamente un 90%)."
   ]
  },
  {
   "cell_type": "code",
   "execution_count": 10,
   "metadata": {
    "scrolled": true
   },
   "outputs": [],
   "source": [
    "df_reducido=df_union[df_union.columns[df_union.count()>41000]]"
   ]
  },
  {
   "cell_type": "code",
   "execution_count": 11,
   "metadata": {},
   "outputs": [
    {
     "data": {
      "text/html": [
       "<div>\n",
       "<style scoped>\n",
       "    .dataframe tbody tr th:only-of-type {\n",
       "        vertical-align: middle;\n",
       "    }\n",
       "\n",
       "    .dataframe tbody tr th {\n",
       "        vertical-align: top;\n",
       "    }\n",
       "\n",
       "    .dataframe thead th {\n",
       "        text-align: right;\n",
       "    }\n",
       "</style>\n",
       "<table border=\"1\" class=\"dataframe\">\n",
       "  <thead>\n",
       "    <tr style=\"text-align: right;\">\n",
       "      <th></th>\n",
       "      <th>AA14</th>\n",
       "      <th>AA15</th>\n",
       "      <th>AA3</th>\n",
       "      <th>AA4</th>\n",
       "      <th>AA7</th>\n",
       "      <th>DG1</th>\n",
       "      <th>DG3</th>\n",
       "      <th>DG3A</th>\n",
       "      <th>DG4</th>\n",
       "      <th>DG5_1</th>\n",
       "      <th>...</th>\n",
       "      <th>MMP1_7</th>\n",
       "      <th>MMP1_8</th>\n",
       "      <th>MMP1_9</th>\n",
       "      <th>MMP1_96</th>\n",
       "      <th>MT1</th>\n",
       "      <th>MT10</th>\n",
       "      <th>MT1A</th>\n",
       "      <th>MT2</th>\n",
       "      <th>id</th>\n",
       "      <th>is_female</th>\n",
       "    </tr>\n",
       "  </thead>\n",
       "  <tbody>\n",
       "    <tr>\n",
       "      <th>0</th>\n",
       "      <td>3854</td>\n",
       "      <td>481</td>\n",
       "      <td>3</td>\n",
       "      <td>32</td>\n",
       "      <td>323011</td>\n",
       "      <td>1975</td>\n",
       "      <td>3</td>\n",
       "      <td>4</td>\n",
       "      <td>5</td>\n",
       "      <td>1</td>\n",
       "      <td>...</td>\n",
       "      <td>2</td>\n",
       "      <td>2</td>\n",
       "      <td>2</td>\n",
       "      <td>2</td>\n",
       "      <td>1</td>\n",
       "      <td>2</td>\n",
       "      <td>99.0</td>\n",
       "      <td>2</td>\n",
       "      <td>0</td>\n",
       "      <td>1</td>\n",
       "    </tr>\n",
       "    <tr>\n",
       "      <th>1</th>\n",
       "      <td>2441</td>\n",
       "      <td>344</td>\n",
       "      <td>2</td>\n",
       "      <td>26</td>\n",
       "      <td>268131</td>\n",
       "      <td>1981</td>\n",
       "      <td>8</td>\n",
       "      <td>4</td>\n",
       "      <td>5</td>\n",
       "      <td>2</td>\n",
       "      <td>...</td>\n",
       "      <td>2</td>\n",
       "      <td>2</td>\n",
       "      <td>2</td>\n",
       "      <td>2</td>\n",
       "      <td>1</td>\n",
       "      <td>2</td>\n",
       "      <td>4.0</td>\n",
       "      <td>2</td>\n",
       "      <td>1</td>\n",
       "      <td>1</td>\n",
       "    </tr>\n",
       "    <tr>\n",
       "      <th>2</th>\n",
       "      <td>754</td>\n",
       "      <td>143</td>\n",
       "      <td>1</td>\n",
       "      <td>16</td>\n",
       "      <td>167581</td>\n",
       "      <td>1995</td>\n",
       "      <td>3</td>\n",
       "      <td>2</td>\n",
       "      <td>2</td>\n",
       "      <td>1</td>\n",
       "      <td>...</td>\n",
       "      <td>2</td>\n",
       "      <td>2</td>\n",
       "      <td>2</td>\n",
       "      <td>2</td>\n",
       "      <td>1</td>\n",
       "      <td>2</td>\n",
       "      <td>2.0</td>\n",
       "      <td>2</td>\n",
       "      <td>2</td>\n",
       "      <td>1</td>\n",
       "    </tr>\n",
       "    <tr>\n",
       "      <th>3</th>\n",
       "      <td>5705</td>\n",
       "      <td>604</td>\n",
       "      <td>4</td>\n",
       "      <td>44</td>\n",
       "      <td>445071</td>\n",
       "      <td>1980</td>\n",
       "      <td>3</td>\n",
       "      <td>4</td>\n",
       "      <td>5</td>\n",
       "      <td>1</td>\n",
       "      <td>...</td>\n",
       "      <td>2</td>\n",
       "      <td>2</td>\n",
       "      <td>2</td>\n",
       "      <td>2</td>\n",
       "      <td>2</td>\n",
       "      <td>1</td>\n",
       "      <td>2.0</td>\n",
       "      <td>1</td>\n",
       "      <td>3</td>\n",
       "      <td>1</td>\n",
       "    </tr>\n",
       "    <tr>\n",
       "      <th>4</th>\n",
       "      <td>5645</td>\n",
       "      <td>592</td>\n",
       "      <td>4</td>\n",
       "      <td>43</td>\n",
       "      <td>436161</td>\n",
       "      <td>1958</td>\n",
       "      <td>3</td>\n",
       "      <td>4</td>\n",
       "      <td>6</td>\n",
       "      <td>1</td>\n",
       "      <td>...</td>\n",
       "      <td>2</td>\n",
       "      <td>2</td>\n",
       "      <td>2</td>\n",
       "      <td>2</td>\n",
       "      <td>99</td>\n",
       "      <td>2</td>\n",
       "      <td>NaN</td>\n",
       "      <td>2</td>\n",
       "      <td>4</td>\n",
       "      <td>1</td>\n",
       "    </tr>\n",
       "  </tbody>\n",
       "</table>\n",
       "<p>5 rows × 262 columns</p>\n",
       "</div>"
      ],
      "text/plain": [
       "   AA14  AA15  AA3  AA4     AA7   DG1  DG3  DG3A  DG4  DG5_1    ...      \\\n",
       "0  3854   481    3   32  323011  1975    3     4    5      1    ...       \n",
       "1  2441   344    2   26  268131  1981    8     4    5      2    ...       \n",
       "2   754   143    1   16  167581  1995    3     2    2      1    ...       \n",
       "3  5705   604    4   44  445071  1980    3     4    5      1    ...       \n",
       "4  5645   592    4   43  436161  1958    3     4    6      1    ...       \n",
       "\n",
       "   MMP1_7  MMP1_8  MMP1_9  MMP1_96  MT1  MT10  MT1A  MT2  id  is_female  \n",
       "0       2       2       2        2    1     2  99.0    2   0          1  \n",
       "1       2       2       2        2    1     2   4.0    2   1          1  \n",
       "2       2       2       2        2    1     2   2.0    2   2          1  \n",
       "3       2       2       2        2    2     1   2.0    1   3          1  \n",
       "4       2       2       2        2   99     2   NaN    2   4          1  \n",
       "\n",
       "[5 rows x 262 columns]"
      ]
     },
     "execution_count": 11,
     "metadata": {},
     "output_type": "execute_result"
    }
   ],
   "source": [
    "df_reducido.head()"
   ]
  },
  {
   "cell_type": "markdown",
   "metadata": {},
   "source": [
    "Vamos a ver si de las columnas que nos quedan tenemos alguna que siempre tome el mismo valor. En caso de encontrar alguna la eliminamos porque podria distorsionar el estudio."
   ]
  },
  {
   "cell_type": "code",
   "execution_count": 12,
   "metadata": {},
   "outputs": [
    {
     "data": {
      "text/plain": [
       "['DG5_96', 'MM2_16']"
      ]
     },
     "execution_count": 12,
     "metadata": {},
     "output_type": "execute_result"
    }
   ],
   "source": [
    "valores_unicos=[]\n",
    "for i in df_reducido.columns:\n",
    "    if len(df_reducido[i].unique()) == 1:\n",
    "        valores_unicos.append(i)\n",
    "valores_unicos"
   ]
  },
  {
   "cell_type": "code",
   "execution_count": 13,
   "metadata": {},
   "outputs": [
    {
     "data": {
      "text/plain": [
       "(45540, 260)"
      ]
     },
     "execution_count": 13,
     "metadata": {},
     "output_type": "execute_result"
    }
   ],
   "source": [
    "df_reducido2=df_reducido.drop(valores_unicos, axis=1)\n",
    "df_reducido2.shape"
   ]
  },
  {
   "cell_type": "code",
   "execution_count": 14,
   "metadata": {},
   "outputs": [
    {
     "data": {
      "text/html": [
       "<div>\n",
       "<style scoped>\n",
       "    .dataframe tbody tr th:only-of-type {\n",
       "        vertical-align: middle;\n",
       "    }\n",
       "\n",
       "    .dataframe tbody tr th {\n",
       "        vertical-align: top;\n",
       "    }\n",
       "\n",
       "    .dataframe thead th {\n",
       "        text-align: right;\n",
       "    }\n",
       "</style>\n",
       "<table border=\"1\" class=\"dataframe\">\n",
       "  <thead>\n",
       "    <tr style=\"text-align: right;\">\n",
       "      <th></th>\n",
       "      <th>AA14</th>\n",
       "      <th>AA15</th>\n",
       "      <th>AA3</th>\n",
       "      <th>AA4</th>\n",
       "      <th>AA7</th>\n",
       "      <th>DG1</th>\n",
       "      <th>DG3</th>\n",
       "      <th>DG3A</th>\n",
       "      <th>DG4</th>\n",
       "      <th>DG5_1</th>\n",
       "      <th>...</th>\n",
       "      <th>MMP1_7</th>\n",
       "      <th>MMP1_8</th>\n",
       "      <th>MMP1_9</th>\n",
       "      <th>MMP1_96</th>\n",
       "      <th>MT1</th>\n",
       "      <th>MT10</th>\n",
       "      <th>MT1A</th>\n",
       "      <th>MT2</th>\n",
       "      <th>id</th>\n",
       "      <th>is_female</th>\n",
       "    </tr>\n",
       "  </thead>\n",
       "  <tbody>\n",
       "    <tr>\n",
       "      <th>0</th>\n",
       "      <td>3854</td>\n",
       "      <td>481</td>\n",
       "      <td>3</td>\n",
       "      <td>32</td>\n",
       "      <td>323011</td>\n",
       "      <td>1975</td>\n",
       "      <td>3</td>\n",
       "      <td>4</td>\n",
       "      <td>5</td>\n",
       "      <td>1</td>\n",
       "      <td>...</td>\n",
       "      <td>2</td>\n",
       "      <td>2</td>\n",
       "      <td>2</td>\n",
       "      <td>2</td>\n",
       "      <td>1</td>\n",
       "      <td>2</td>\n",
       "      <td>99.0</td>\n",
       "      <td>2</td>\n",
       "      <td>0</td>\n",
       "      <td>1</td>\n",
       "    </tr>\n",
       "    <tr>\n",
       "      <th>1</th>\n",
       "      <td>2441</td>\n",
       "      <td>344</td>\n",
       "      <td>2</td>\n",
       "      <td>26</td>\n",
       "      <td>268131</td>\n",
       "      <td>1981</td>\n",
       "      <td>8</td>\n",
       "      <td>4</td>\n",
       "      <td>5</td>\n",
       "      <td>2</td>\n",
       "      <td>...</td>\n",
       "      <td>2</td>\n",
       "      <td>2</td>\n",
       "      <td>2</td>\n",
       "      <td>2</td>\n",
       "      <td>1</td>\n",
       "      <td>2</td>\n",
       "      <td>4.0</td>\n",
       "      <td>2</td>\n",
       "      <td>1</td>\n",
       "      <td>1</td>\n",
       "    </tr>\n",
       "    <tr>\n",
       "      <th>2</th>\n",
       "      <td>754</td>\n",
       "      <td>143</td>\n",
       "      <td>1</td>\n",
       "      <td>16</td>\n",
       "      <td>167581</td>\n",
       "      <td>1995</td>\n",
       "      <td>3</td>\n",
       "      <td>2</td>\n",
       "      <td>2</td>\n",
       "      <td>1</td>\n",
       "      <td>...</td>\n",
       "      <td>2</td>\n",
       "      <td>2</td>\n",
       "      <td>2</td>\n",
       "      <td>2</td>\n",
       "      <td>1</td>\n",
       "      <td>2</td>\n",
       "      <td>2.0</td>\n",
       "      <td>2</td>\n",
       "      <td>2</td>\n",
       "      <td>1</td>\n",
       "    </tr>\n",
       "    <tr>\n",
       "      <th>3</th>\n",
       "      <td>5705</td>\n",
       "      <td>604</td>\n",
       "      <td>4</td>\n",
       "      <td>44</td>\n",
       "      <td>445071</td>\n",
       "      <td>1980</td>\n",
       "      <td>3</td>\n",
       "      <td>4</td>\n",
       "      <td>5</td>\n",
       "      <td>1</td>\n",
       "      <td>...</td>\n",
       "      <td>2</td>\n",
       "      <td>2</td>\n",
       "      <td>2</td>\n",
       "      <td>2</td>\n",
       "      <td>2</td>\n",
       "      <td>1</td>\n",
       "      <td>2.0</td>\n",
       "      <td>1</td>\n",
       "      <td>3</td>\n",
       "      <td>1</td>\n",
       "    </tr>\n",
       "    <tr>\n",
       "      <th>4</th>\n",
       "      <td>5645</td>\n",
       "      <td>592</td>\n",
       "      <td>4</td>\n",
       "      <td>43</td>\n",
       "      <td>436161</td>\n",
       "      <td>1958</td>\n",
       "      <td>3</td>\n",
       "      <td>4</td>\n",
       "      <td>6</td>\n",
       "      <td>1</td>\n",
       "      <td>...</td>\n",
       "      <td>2</td>\n",
       "      <td>2</td>\n",
       "      <td>2</td>\n",
       "      <td>2</td>\n",
       "      <td>99</td>\n",
       "      <td>2</td>\n",
       "      <td>NaN</td>\n",
       "      <td>2</td>\n",
       "      <td>4</td>\n",
       "      <td>1</td>\n",
       "    </tr>\n",
       "  </tbody>\n",
       "</table>\n",
       "<p>5 rows × 260 columns</p>\n",
       "</div>"
      ],
      "text/plain": [
       "   AA14  AA15  AA3  AA4     AA7   DG1  DG3  DG3A  DG4  DG5_1    ...      \\\n",
       "0  3854   481    3   32  323011  1975    3     4    5      1    ...       \n",
       "1  2441   344    2   26  268131  1981    8     4    5      2    ...       \n",
       "2   754   143    1   16  167581  1995    3     2    2      1    ...       \n",
       "3  5705   604    4   44  445071  1980    3     4    5      1    ...       \n",
       "4  5645   592    4   43  436161  1958    3     4    6      1    ...       \n",
       "\n",
       "   MMP1_7  MMP1_8  MMP1_9  MMP1_96  MT1  MT10  MT1A  MT2  id  is_female  \n",
       "0       2       2       2        2    1     2  99.0    2   0          1  \n",
       "1       2       2       2        2    1     2   4.0    2   1          1  \n",
       "2       2       2       2        2    1     2   2.0    2   2          1  \n",
       "3       2       2       2        2    2     1   2.0    1   3          1  \n",
       "4       2       2       2        2   99     2   NaN    2   4          1  \n",
       "\n",
       "[5 rows x 260 columns]"
      ]
     },
     "execution_count": 14,
     "metadata": {},
     "output_type": "execute_result"
    }
   ],
   "source": [
    "df_reducido2.head()"
   ]
  },
  {
   "cell_type": "markdown",
   "metadata": {},
   "source": [
    "Ahora que tenemos menos columnas con nulos vamos a ver cual valor se ajusta mejor (dependiendo del caso podemos usar el 0, el 1, la media, etc."
   ]
  },
  {
   "cell_type": "code",
   "execution_count": 15,
   "metadata": {},
   "outputs": [
    {
     "data": {
      "text/plain": [
       "Index(['DG9a', 'FB19B_1', 'FB19B_2', 'FB19B_3', 'FB19B_4', 'FB19B_5',\n",
       "       'FB19B_96', 'FB20', 'MM3_1', 'MM3_10', 'MM3_11', 'MM3_12', 'MM3_13',\n",
       "       'MM3_14', 'MM3_2', 'MM3_3', 'MM3_4', 'MM3_5', 'MM3_6', 'MM3_7', 'MM3_8',\n",
       "       'MM3_9', 'MT1A'],\n",
       "      dtype='object')"
      ]
     },
     "execution_count": 15,
     "metadata": {},
     "output_type": "execute_result"
    }
   ],
   "source": [
    "df_reducido2.columns[df_reducido2.count()<45540]"
   ]
  },
  {
   "cell_type": "markdown",
   "metadata": {},
   "source": [
    "Vamos a cambiar los NaN por el valor 99 que es el valor que se aplica para el \"NS/NC\""
   ]
  },
  {
   "cell_type": "code",
   "execution_count": 16,
   "metadata": {},
   "outputs": [],
   "source": [
    "df_reducido2.fillna(99,inplace=True)"
   ]
  },
  {
   "cell_type": "markdown",
   "metadata": {},
   "source": [
    "Comprobamos que ya no hay valores nulos."
   ]
  },
  {
   "cell_type": "code",
   "execution_count": 17,
   "metadata": {},
   "outputs": [
    {
     "data": {
      "text/plain": [
       "0"
      ]
     },
     "execution_count": 17,
     "metadata": {},
     "output_type": "execute_result"
    }
   ],
   "source": [
    "len(df_reducido2.columns[df_reducido2.count()<18255])"
   ]
  },
  {
   "cell_type": "code",
   "execution_count": 18,
   "metadata": {},
   "outputs": [
    {
     "data": {
      "text/plain": [
       "Index(['AA14', 'AA15', 'AA3', 'AA4', 'AA7', 'DG1', 'DG3', 'DG3A', 'DG4',\n",
       "       'DG5_1',\n",
       "       ...\n",
       "       'MMP1_7', 'MMP1_8', 'MMP1_9', 'MMP1_96', 'MT1', 'MT10', 'MT1A', 'MT2',\n",
       "       'id', 'is_female'],\n",
       "      dtype='object', length=260)"
      ]
     },
     "execution_count": 18,
     "metadata": {},
     "output_type": "execute_result"
    }
   ],
   "source": [
    "df_reducido2.columns"
   ]
  },
  {
   "cell_type": "markdown",
   "metadata": {},
   "source": [
    "<a id='Preparacion'></a>\n",
    "## Preparacion de los datos"
   ]
  },
  {
   "cell_type": "markdown",
   "metadata": {},
   "source": [
    "En este punto hemos llegado con 260 columnas entre las que se incluye la variable objetivo (is_female) y el id. Vamos separar el df en dos, por una parte la columna objetivo y el id, y por el otro el resto de columnas. Sobre el segundo df vamos a lanzar un PCA para reducir las columnas a las más representativas, el número de columnas lo vamos a decidir más adelante."
   ]
  },
  {
   "cell_type": "code",
   "execution_count": 19,
   "metadata": {},
   "outputs": [],
   "source": [
    "df_objetivo=df_reducido2[['is_female','id']]\n",
    "df_reducido3=df_reducido2.drop(['is_female','id'], axis=1)"
   ]
  },
  {
   "cell_type": "code",
   "execution_count": 20,
   "metadata": {},
   "outputs": [
    {
     "data": {
      "text/plain": [
       "(45540, 2)"
      ]
     },
     "execution_count": 20,
     "metadata": {},
     "output_type": "execute_result"
    }
   ],
   "source": [
    "df_objetivo.shape"
   ]
  },
  {
   "cell_type": "code",
   "execution_count": 21,
   "metadata": {},
   "outputs": [
    {
     "data": {
      "text/plain": [
       "(45540, 258)"
      ]
     },
     "execution_count": 21,
     "metadata": {},
     "output_type": "execute_result"
    }
   ],
   "source": [
    "df_reducido3.shape"
   ]
  },
  {
   "cell_type": "code",
   "execution_count": 22,
   "metadata": {},
   "outputs": [
    {
     "data": {
      "text/plain": [
       "Index(['AA14', 'AA15', 'AA3', 'AA4', 'AA7', 'DG1', 'DG3', 'DG3A', 'DG4',\n",
       "       'DG5_1',\n",
       "       ...\n",
       "       'MMP1_5', 'MMP1_6', 'MMP1_7', 'MMP1_8', 'MMP1_9', 'MMP1_96', 'MT1',\n",
       "       'MT10', 'MT1A', 'MT2'],\n",
       "      dtype='object', length=258)"
      ]
     },
     "execution_count": 22,
     "metadata": {},
     "output_type": "execute_result"
    }
   ],
   "source": [
    "columnas=df_reducido3.columns\n",
    "columnas"
   ]
  },
  {
   "cell_type": "markdown",
   "metadata": {},
   "source": [
    "Al revisar las columnas (y con ayuda del diccionario) vemos que hay conjuntos de columnas que vienen de la misma pregunta \"padre\". En el ejemplo anterior vemos el caso de MMP1. Vamos a agrupar estas variables en una única columna con el fin de reducir columnas de cara a nuestro"
   ]
  },
  {
   "cell_type": "code",
   "execution_count": 23,
   "metadata": {},
   "outputs": [],
   "source": [
    "variables_agrupadas=[]\n",
    "for i in df_reducido3.columns:\n",
    "    variables_agrupadas.append(i.split('_')[0])"
   ]
  },
  {
   "cell_type": "code",
   "execution_count": 24,
   "metadata": {},
   "outputs": [],
   "source": [
    "variables_agrupadas=list(set(variables_agrupadas))"
   ]
  },
  {
   "cell_type": "code",
   "execution_count": 25,
   "metadata": {},
   "outputs": [],
   "source": [
    "variables_agrupadas.sort()"
   ]
  },
  {
   "cell_type": "code",
   "execution_count": 26,
   "metadata": {
    "scrolled": true
   },
   "outputs": [
    {
     "data": {
      "text/plain": [
       "['AA14',\n",
       " 'AA15',\n",
       " 'AA3',\n",
       " 'AA4',\n",
       " 'AA7',\n",
       " 'DG1',\n",
       " 'DG3',\n",
       " 'DG3A',\n",
       " 'DG4',\n",
       " 'DG5',\n",
       " 'DG6',\n",
       " 'DG8a',\n",
       " 'DG8b',\n",
       " 'DG8c',\n",
       " 'DG9a',\n",
       " 'DL0',\n",
       " 'DL1',\n",
       " 'DL11',\n",
       " 'DL14',\n",
       " 'DL15',\n",
       " 'DL16',\n",
       " 'DL17',\n",
       " 'DL18',\n",
       " 'DL19',\n",
       " 'DL20',\n",
       " 'DL21',\n",
       " 'DL22',\n",
       " 'DL23',\n",
       " 'DL24',\n",
       " 'DL25',\n",
       " 'DL26',\n",
       " 'DL4',\n",
       " 'DL6',\n",
       " 'FB1',\n",
       " 'FB13',\n",
       " 'FB16',\n",
       " 'FB18',\n",
       " 'FB19',\n",
       " 'FB19A',\n",
       " 'FB19B',\n",
       " 'FB2',\n",
       " 'FB20',\n",
       " 'FB22',\n",
       " 'FB27',\n",
       " 'FB29',\n",
       " 'FB3',\n",
       " 'FF1',\n",
       " 'FL1',\n",
       " 'FL10',\n",
       " 'FL11',\n",
       " 'FL12',\n",
       " 'FL13',\n",
       " 'FL14',\n",
       " 'FL15',\n",
       " 'FL16',\n",
       " 'FL17',\n",
       " 'FL18',\n",
       " 'FL4',\n",
       " 'FL6',\n",
       " 'FL7',\n",
       " 'FL8',\n",
       " 'FL9A',\n",
       " 'GN2',\n",
       " 'GN3',\n",
       " 'GN4',\n",
       " 'GN5',\n",
       " 'IFI1',\n",
       " 'IFI14',\n",
       " 'IFI15',\n",
       " 'IFI18',\n",
       " 'IFI3',\n",
       " 'LN1A',\n",
       " 'LN1B',\n",
       " 'LN2',\n",
       " 'MM1',\n",
       " 'MM2',\n",
       " 'MM3',\n",
       " 'MMP1',\n",
       " 'MT1',\n",
       " 'MT10',\n",
       " 'MT1A',\n",
       " 'MT2']"
      ]
     },
     "execution_count": 26,
     "metadata": {},
     "output_type": "execute_result"
    }
   ],
   "source": [
    "variables_agrupadas"
   ]
  },
  {
   "cell_type": "code",
   "execution_count": 27,
   "metadata": {},
   "outputs": [],
   "source": [
    "a=0\n",
    "for i in variables_agrupadas:\n",
    "    df_reducido3['C'+str(a)]=df_reducido3[df_reducido3.columns[df_reducido3.columns.str.contains(i)]].mode(axis=1)[0]\n",
    "    a=a+1\n",
    "df_reducido3=df_reducido3.drop(columnas, axis=1)\n",
    "df_reducido3.columns=variables_agrupadas"
   ]
  },
  {
   "cell_type": "code",
   "execution_count": 28,
   "metadata": {
    "scrolled": true
   },
   "outputs": [
    {
     "data": {
      "text/plain": [
       "(45540, 82)"
      ]
     },
     "execution_count": 28,
     "metadata": {},
     "output_type": "execute_result"
    }
   ],
   "source": [
    "df_reducido3.shape"
   ]
  },
  {
   "cell_type": "markdown",
   "metadata": {},
   "source": [
    "Calculamos la matriz de covarianza y sus autovalores y autovectores. Creamos las parejas de autovector y autovalor y las ordenamos. Esto lo hacemos para ver con cuantas variables podemos explicar gran parte de los datos."
   ]
  },
  {
   "cell_type": "code",
   "execution_count": 29,
   "metadata": {},
   "outputs": [],
   "source": [
    "X_std = StandardScaler().fit_transform(df_reducido3)"
   ]
  },
  {
   "cell_type": "code",
   "execution_count": 30,
   "metadata": {},
   "outputs": [],
   "source": [
    "matriz_covarianza = np.cov(X_std.T)\n",
    "\n",
    "autovalor, autovector = np.linalg.eig(matriz_covarianza)\n",
    "\n",
    "parejas = [(np.abs(autovalor[i]), autovector[:,i]) for i in range(len(autovalor))]\n",
    "\n",
    "# Ordenamos estas parejas den orden descendiente con la función sort\n",
    "parejas.sort(key=lambda x: x[0], reverse=True)"
   ]
  },
  {
   "cell_type": "code",
   "execution_count": 31,
   "metadata": {},
   "outputs": [],
   "source": [
    "total = sum(autovalor)\n",
    "var_exp = [(i / total)*100 for i in sorted(autovalor, reverse=True)]\n",
    "cum_var_exp = np.cumsum(var_exp)"
   ]
  },
  {
   "cell_type": "code",
   "execution_count": 32,
   "metadata": {},
   "outputs": [
    {
     "name": "stdout",
     "output_type": "stream",
     "text": [
      "80.15249375115819\n",
      "88.02806349211689\n",
      "94.03059405771342\n",
      "98.13040845525595\n"
     ]
    }
   ],
   "source": [
    "print(cum_var_exp[39])\n",
    "print(cum_var_exp[49])\n",
    "print(cum_var_exp[59])\n",
    "print(cum_var_exp[69])"
   ]
  },
  {
   "cell_type": "markdown",
   "metadata": {},
   "source": [
    "Con esto vemos que con 40 variables podemos explicar el 80%, con 50 variables un 88%, con 60 variables un 94% y con 70 un 98%. Con esto valoramos que nospodemos quedar con 50 variables. Por lo que lanzamos el PCA."
   ]
  },
  {
   "cell_type": "code",
   "execution_count": 33,
   "metadata": {},
   "outputs": [
    {
     "data": {
      "text/plain": [
       "(45540, 82)"
      ]
     },
     "execution_count": 33,
     "metadata": {},
     "output_type": "execute_result"
    }
   ],
   "source": [
    "df_reducido3.shape"
   ]
  },
  {
   "cell_type": "code",
   "execution_count": 34,
   "metadata": {},
   "outputs": [],
   "source": [
    "pca = PCA(n_components=40)\n",
    "principalComponents = pca.fit_transform(X_std)\n",
    "principalDf = pd.DataFrame(data = principalComponents)"
   ]
  },
  {
   "cell_type": "code",
   "execution_count": 35,
   "metadata": {},
   "outputs": [
    {
     "data": {
      "text/plain": [
       "(45540, 40)"
      ]
     },
     "execution_count": 35,
     "metadata": {},
     "output_type": "execute_result"
    }
   ],
   "source": [
    "principalDf.shape"
   ]
  },
  {
   "cell_type": "markdown",
   "metadata": {},
   "source": [
    "Ahora vamos a unir este DataFrame con el DataFrame con la columna objetivo"
   ]
  },
  {
   "cell_type": "code",
   "execution_count": 36,
   "metadata": {},
   "outputs": [],
   "source": [
    "df_objetivo.index=list(range(45540))\n",
    "principalDf.index=list(range(45540))"
   ]
  },
  {
   "cell_type": "code",
   "execution_count": 37,
   "metadata": {},
   "outputs": [
    {
     "data": {
      "text/plain": [
       "(45540, 42)"
      ]
     },
     "execution_count": 37,
     "metadata": {},
     "output_type": "execute_result"
    }
   ],
   "source": [
    "finalDf = pd.concat([df_objetivo, principalDf], axis = 1)\n",
    "finalDf.shape"
   ]
  },
  {
   "cell_type": "code",
   "execution_count": 38,
   "metadata": {},
   "outputs": [
    {
     "data": {
      "text/html": [
       "<div>\n",
       "<style scoped>\n",
       "    .dataframe tbody tr th:only-of-type {\n",
       "        vertical-align: middle;\n",
       "    }\n",
       "\n",
       "    .dataframe tbody tr th {\n",
       "        vertical-align: top;\n",
       "    }\n",
       "\n",
       "    .dataframe thead th {\n",
       "        text-align: right;\n",
       "    }\n",
       "</style>\n",
       "<table border=\"1\" class=\"dataframe\">\n",
       "  <thead>\n",
       "    <tr style=\"text-align: right;\">\n",
       "      <th></th>\n",
       "      <th>is_female</th>\n",
       "      <th>id</th>\n",
       "      <th>0</th>\n",
       "      <th>1</th>\n",
       "      <th>2</th>\n",
       "      <th>3</th>\n",
       "      <th>4</th>\n",
       "      <th>5</th>\n",
       "      <th>6</th>\n",
       "      <th>7</th>\n",
       "      <th>...</th>\n",
       "      <th>30</th>\n",
       "      <th>31</th>\n",
       "      <th>32</th>\n",
       "      <th>33</th>\n",
       "      <th>34</th>\n",
       "      <th>35</th>\n",
       "      <th>36</th>\n",
       "      <th>37</th>\n",
       "      <th>38</th>\n",
       "      <th>39</th>\n",
       "    </tr>\n",
       "  </thead>\n",
       "  <tbody>\n",
       "    <tr>\n",
       "      <th>0</th>\n",
       "      <td>1</td>\n",
       "      <td>0</td>\n",
       "      <td>9.737250</td>\n",
       "      <td>3.303965</td>\n",
       "      <td>0.142250</td>\n",
       "      <td>0.687251</td>\n",
       "      <td>0.097242</td>\n",
       "      <td>1.064739</td>\n",
       "      <td>-3.719520</td>\n",
       "      <td>-4.462994</td>\n",
       "      <td>...</td>\n",
       "      <td>-1.601129</td>\n",
       "      <td>-0.469435</td>\n",
       "      <td>0.521478</td>\n",
       "      <td>-0.358164</td>\n",
       "      <td>-0.219669</td>\n",
       "      <td>-0.230317</td>\n",
       "      <td>-0.598610</td>\n",
       "      <td>-0.506740</td>\n",
       "      <td>-0.911893</td>\n",
       "      <td>-1.242499</td>\n",
       "    </tr>\n",
       "    <tr>\n",
       "      <th>1</th>\n",
       "      <td>1</td>\n",
       "      <td>1</td>\n",
       "      <td>-0.972653</td>\n",
       "      <td>-1.699025</td>\n",
       "      <td>-1.689912</td>\n",
       "      <td>0.005543</td>\n",
       "      <td>1.409236</td>\n",
       "      <td>-1.592054</td>\n",
       "      <td>0.805657</td>\n",
       "      <td>0.016641</td>\n",
       "      <td>...</td>\n",
       "      <td>-0.417720</td>\n",
       "      <td>-0.182292</td>\n",
       "      <td>-0.148753</td>\n",
       "      <td>0.091618</td>\n",
       "      <td>0.096731</td>\n",
       "      <td>-0.213774</td>\n",
       "      <td>0.142963</td>\n",
       "      <td>-0.403848</td>\n",
       "      <td>0.564504</td>\n",
       "      <td>0.723742</td>\n",
       "    </tr>\n",
       "    <tr>\n",
       "      <th>2</th>\n",
       "      <td>1</td>\n",
       "      <td>2</td>\n",
       "      <td>-1.016790</td>\n",
       "      <td>-2.960426</td>\n",
       "      <td>-0.543204</td>\n",
       "      <td>1.665542</td>\n",
       "      <td>0.901738</td>\n",
       "      <td>-0.920278</td>\n",
       "      <td>1.639720</td>\n",
       "      <td>-0.810444</td>\n",
       "      <td>...</td>\n",
       "      <td>0.910673</td>\n",
       "      <td>-0.354638</td>\n",
       "      <td>-0.184876</td>\n",
       "      <td>-0.384688</td>\n",
       "      <td>0.521770</td>\n",
       "      <td>-0.690594</td>\n",
       "      <td>-1.565819</td>\n",
       "      <td>0.210840</td>\n",
       "      <td>0.401872</td>\n",
       "      <td>-0.279608</td>\n",
       "    </tr>\n",
       "    <tr>\n",
       "      <th>3</th>\n",
       "      <td>1</td>\n",
       "      <td>3</td>\n",
       "      <td>2.546364</td>\n",
       "      <td>1.709745</td>\n",
       "      <td>2.961189</td>\n",
       "      <td>-2.113839</td>\n",
       "      <td>0.443589</td>\n",
       "      <td>0.769548</td>\n",
       "      <td>-1.941849</td>\n",
       "      <td>-1.013783</td>\n",
       "      <td>...</td>\n",
       "      <td>0.508273</td>\n",
       "      <td>-0.519787</td>\n",
       "      <td>0.119159</td>\n",
       "      <td>-0.387567</td>\n",
       "      <td>-1.024621</td>\n",
       "      <td>-0.301853</td>\n",
       "      <td>-0.790689</td>\n",
       "      <td>-0.587380</td>\n",
       "      <td>-0.105933</td>\n",
       "      <td>-0.322942</td>\n",
       "    </tr>\n",
       "    <tr>\n",
       "      <th>4</th>\n",
       "      <td>1</td>\n",
       "      <td>4</td>\n",
       "      <td>2.923889</td>\n",
       "      <td>7.963088</td>\n",
       "      <td>-2.300312</td>\n",
       "      <td>3.225992</td>\n",
       "      <td>-4.420551</td>\n",
       "      <td>-3.735542</td>\n",
       "      <td>5.407199</td>\n",
       "      <td>-0.985924</td>\n",
       "      <td>...</td>\n",
       "      <td>0.248119</td>\n",
       "      <td>-0.535884</td>\n",
       "      <td>-0.067643</td>\n",
       "      <td>0.033022</td>\n",
       "      <td>-1.339137</td>\n",
       "      <td>1.865714</td>\n",
       "      <td>1.233480</td>\n",
       "      <td>1.558086</td>\n",
       "      <td>0.588988</td>\n",
       "      <td>-0.722752</td>\n",
       "    </tr>\n",
       "  </tbody>\n",
       "</table>\n",
       "<p>5 rows × 42 columns</p>\n",
       "</div>"
      ],
      "text/plain": [
       "   is_female  id         0         1         2         3         4         5  \\\n",
       "0          1   0  9.737250  3.303965  0.142250  0.687251  0.097242  1.064739   \n",
       "1          1   1 -0.972653 -1.699025 -1.689912  0.005543  1.409236 -1.592054   \n",
       "2          1   2 -1.016790 -2.960426 -0.543204  1.665542  0.901738 -0.920278   \n",
       "3          1   3  2.546364  1.709745  2.961189 -2.113839  0.443589  0.769548   \n",
       "4          1   4  2.923889  7.963088 -2.300312  3.225992 -4.420551 -3.735542   \n",
       "\n",
       "          6         7    ...           30        31        32        33  \\\n",
       "0 -3.719520 -4.462994    ...    -1.601129 -0.469435  0.521478 -0.358164   \n",
       "1  0.805657  0.016641    ...    -0.417720 -0.182292 -0.148753  0.091618   \n",
       "2  1.639720 -0.810444    ...     0.910673 -0.354638 -0.184876 -0.384688   \n",
       "3 -1.941849 -1.013783    ...     0.508273 -0.519787  0.119159 -0.387567   \n",
       "4  5.407199 -0.985924    ...     0.248119 -0.535884 -0.067643  0.033022   \n",
       "\n",
       "         34        35        36        37        38        39  \n",
       "0 -0.219669 -0.230317 -0.598610 -0.506740 -0.911893 -1.242499  \n",
       "1  0.096731 -0.213774  0.142963 -0.403848  0.564504  0.723742  \n",
       "2  0.521770 -0.690594 -1.565819  0.210840  0.401872 -0.279608  \n",
       "3 -1.024621 -0.301853 -0.790689 -0.587380 -0.105933 -0.322942  \n",
       "4 -1.339137  1.865714  1.233480  1.558086  0.588988 -0.722752  \n",
       "\n",
       "[5 rows x 42 columns]"
      ]
     },
     "execution_count": 38,
     "metadata": {},
     "output_type": "execute_result"
    }
   ],
   "source": [
    "finalDf.head()"
   ]
  },
  {
   "cell_type": "markdown",
   "metadata": {},
   "source": [
    "<a id='Modelo'></a>\n",
    "## Modelo"
   ]
  },
  {
   "cell_type": "markdown",
   "metadata": {},
   "source": [
    "De cara al modelo que vayamos a usar, vamos a separar este df en dos, la parte correspondiente a train y a test."
   ]
  },
  {
   "cell_type": "code",
   "execution_count": 39,
   "metadata": {},
   "outputs": [
    {
     "data": {
      "text/plain": [
       "(18255, 40)"
      ]
     },
     "execution_count": 39,
     "metadata": {},
     "output_type": "execute_result"
    }
   ],
   "source": [
    "final_train=finalDf[finalDf['is_female']!=99]\n",
    "final_train.index=final_train['id']\n",
    "final_target=final_train['is_female']\n",
    "final_train=final_train.drop(['id','is_female'], axis=1)\n",
    "final_train.shape"
   ]
  },
  {
   "cell_type": "code",
   "execution_count": 40,
   "metadata": {},
   "outputs": [
    {
     "data": {
      "text/plain": [
       "(27285, 40)"
      ]
     },
     "execution_count": 40,
     "metadata": {},
     "output_type": "execute_result"
    }
   ],
   "source": [
    "final_test=finalDf[finalDf['is_female']==99]\n",
    "final_test.index=final_test['id']\n",
    "final_test=final_test.drop(['id','is_female'], axis=1)\n",
    "final_test.shape"
   ]
  },
  {
   "cell_type": "markdown",
   "metadata": {},
   "source": [
    "Vamos a empezar usando un Random Forest  ya que podemos meter muchas más variables que con otros modelos más simples, como una regresión lineal."
   ]
  },
  {
   "cell_type": "code",
   "execution_count": 41,
   "metadata": {},
   "outputs": [
    {
     "data": {
      "text/plain": [
       "array([1, 0, 1, ..., 0, 0, 0])"
      ]
     },
     "execution_count": 41,
     "metadata": {},
     "output_type": "execute_result"
    }
   ],
   "source": [
    "# CONVIERTE EN NUMPY.MATRIX. Para mejor rendimiento\n",
    "# -----------------------------------------------------------------------------------------------\n",
    "data_train = np.matrix(final_train)\n",
    "data_test  = np.matrix(final_test) \n",
    "\n",
    "\n",
    "# MODELO\n",
    "#---------------------------------------------------------------------------------------------\n",
    "modelo = RandomForestClassifier(random_state      = 1, n_estimators      = 666, min_samples_split = 2, \n",
    "                                min_samples_leaf  = 1, n_jobs            = 1)\n",
    "modelo.fit(X = final_train, y = final_target)\n",
    "\n",
    "\n",
    "# PREDICCION\n",
    "#---------------------------------------------------------------------------------------------\n",
    "prediccion = modelo.predict(final_test)\n",
    "prediccion"
   ]
  },
  {
   "cell_type": "code",
   "execution_count": 42,
   "metadata": {},
   "outputs": [
    {
     "data": {
      "text/plain": [
       "27285"
      ]
     },
     "execution_count": 42,
     "metadata": {},
     "output_type": "execute_result"
    }
   ],
   "source": [
    "len(prediccion)"
   ]
  },
  {
   "cell_type": "code",
   "execution_count": 43,
   "metadata": {},
   "outputs": [],
   "source": [
    "final_prediccion = pd.DataFrame({\n",
    " 'Id':final_test.index, \n",
    " 'is_female':prediccion\n",
    " })"
   ]
  },
  {
   "cell_type": "code",
   "execution_count": 44,
   "metadata": {},
   "outputs": [
    {
     "data": {
      "text/html": [
       "<div>\n",
       "<style scoped>\n",
       "    .dataframe tbody tr th:only-of-type {\n",
       "        vertical-align: middle;\n",
       "    }\n",
       "\n",
       "    .dataframe tbody tr th {\n",
       "        vertical-align: top;\n",
       "    }\n",
       "\n",
       "    .dataframe thead th {\n",
       "        text-align: right;\n",
       "    }\n",
       "</style>\n",
       "<table border=\"1\" class=\"dataframe\">\n",
       "  <thead>\n",
       "    <tr style=\"text-align: right;\">\n",
       "      <th></th>\n",
       "      <th>Id</th>\n",
       "      <th>is_female</th>\n",
       "    </tr>\n",
       "  </thead>\n",
       "  <tbody>\n",
       "    <tr>\n",
       "      <th>0</th>\n",
       "      <td>0</td>\n",
       "      <td>1</td>\n",
       "    </tr>\n",
       "    <tr>\n",
       "      <th>1</th>\n",
       "      <td>1</td>\n",
       "      <td>0</td>\n",
       "    </tr>\n",
       "    <tr>\n",
       "      <th>2</th>\n",
       "      <td>2</td>\n",
       "      <td>1</td>\n",
       "    </tr>\n",
       "    <tr>\n",
       "      <th>3</th>\n",
       "      <td>3</td>\n",
       "      <td>1</td>\n",
       "    </tr>\n",
       "    <tr>\n",
       "      <th>4</th>\n",
       "      <td>4</td>\n",
       "      <td>1</td>\n",
       "    </tr>\n",
       "  </tbody>\n",
       "</table>\n",
       "</div>"
      ],
      "text/plain": [
       "   Id  is_female\n",
       "0   0          1\n",
       "1   1          0\n",
       "2   2          1\n",
       "3   3          1\n",
       "4   4          1"
      ]
     },
     "execution_count": 44,
     "metadata": {},
     "output_type": "execute_result"
    }
   ],
   "source": [
    "final_prediccion.head()"
   ]
  },
  {
   "cell_type": "code",
   "execution_count": 45,
   "metadata": {},
   "outputs": [],
   "source": [
    "final_prediccion.to_csv('final_prediccion.csv',index=False)"
   ]
  },
  {
   "cell_type": "markdown",
   "metadata": {},
   "source": [
    "<a id='Conclusion'></a>\n",
    "## Conclusiones"
   ]
  },
  {
   "cell_type": "markdown",
   "metadata": {},
   "source": [
    "### Primera validación:\n",
    "Una 'validación' muy sencilla que podemos hacer es comparar la proporción hombres/mujeres que tenemos en los datos de train vs esa misma proporción en los resultados que hemos obtenido"
   ]
  },
  {
   "cell_type": "code",
   "execution_count": 57,
   "metadata": {},
   "outputs": [
    {
     "data": {
      "text/plain": [
       "is_female\n",
       "0    8450\n",
       "1    9805\n",
       "Name: AA3, dtype: int64"
      ]
     },
     "execution_count": 57,
     "metadata": {},
     "output_type": "execute_result"
    }
   ],
   "source": [
    "train.groupby('is_female').count()['AA3']"
   ]
  },
  {
   "cell_type": "code",
   "execution_count": 60,
   "metadata": {},
   "outputs": [
    {
     "data": {
      "text/plain": [
       "0.4628868803067653"
      ]
     },
     "execution_count": 60,
     "metadata": {},
     "output_type": "execute_result"
    }
   ],
   "source": [
    "8450/(8450+9805)"
   ]
  },
  {
   "cell_type": "code",
   "execution_count": 59,
   "metadata": {},
   "outputs": [
    {
     "data": {
      "text/html": [
       "<div>\n",
       "<style scoped>\n",
       "    .dataframe tbody tr th:only-of-type {\n",
       "        vertical-align: middle;\n",
       "    }\n",
       "\n",
       "    .dataframe tbody tr th {\n",
       "        vertical-align: top;\n",
       "    }\n",
       "\n",
       "    .dataframe thead th {\n",
       "        text-align: right;\n",
       "    }\n",
       "</style>\n",
       "<table border=\"1\" class=\"dataframe\">\n",
       "  <thead>\n",
       "    <tr style=\"text-align: right;\">\n",
       "      <th></th>\n",
       "      <th>Id</th>\n",
       "    </tr>\n",
       "    <tr>\n",
       "      <th>is_female</th>\n",
       "      <th></th>\n",
       "    </tr>\n",
       "  </thead>\n",
       "  <tbody>\n",
       "    <tr>\n",
       "      <th>0</th>\n",
       "      <td>11920</td>\n",
       "    </tr>\n",
       "    <tr>\n",
       "      <th>1</th>\n",
       "      <td>15365</td>\n",
       "    </tr>\n",
       "  </tbody>\n",
       "</table>\n",
       "</div>"
      ],
      "text/plain": [
       "              Id\n",
       "is_female       \n",
       "0          11920\n",
       "1          15365"
      ]
     },
     "execution_count": 59,
     "metadata": {},
     "output_type": "execute_result"
    }
   ],
   "source": [
    "final_prediccion.groupby('is_female').count()"
   ]
  },
  {
   "cell_type": "code",
   "execution_count": 61,
   "metadata": {},
   "outputs": [
    {
     "data": {
      "text/plain": [
       "0.43687007513285686"
      ]
     },
     "execution_count": 61,
     "metadata": {},
     "output_type": "execute_result"
    }
   ],
   "source": [
    "11920/(11920+15365)"
   ]
  },
  {
   "cell_type": "markdown",
   "metadata": {},
   "source": [
    "Vemos que tiene una proporcion similar."
   ]
  },
  {
   "cell_type": "markdown",
   "metadata": {},
   "source": [
    "### Segunda validación:\n",
    "Para comprobar la robustez del modelo vamos a probarlo con los datos de Train, para ello vamos a separarlo en dos df y lanzar el modelo."
   ]
  },
  {
   "cell_type": "code",
   "execution_count": 77,
   "metadata": {},
   "outputs": [
    {
     "data": {
      "text/plain": [
       "array([0, 1, 0, ..., 0, 0, 0])"
      ]
     },
     "execution_count": 77,
     "metadata": {},
     "output_type": "execute_result"
    }
   ],
   "source": [
    "# TRAIN y TEST\n",
    "#---------------------------------------------------------------------------------------------\n",
    "marca     = np.random.rand(len(final_train)) < 0.8\n",
    "train_rob  = final_train.loc[marca,final_train.columns].as_matrix()\n",
    "test_rob   = final_train.loc[~marca,final_train.columns].as_matrix()\n",
    "target_train = final_target.loc[marca].as_matrix()\n",
    "target_test  = final_target.loc[~marca].as_matrix()\n",
    "\n",
    "# CONVIERTE EN NUMPY.MATRIX. Para mejor rendimiento\n",
    "# -----------------------------------------------------------------------------------------------\n",
    "train_rob = np.matrix(train_rob)\n",
    "test_rob  = np.matrix(test_rob) \n",
    "\n",
    "\n",
    "# MODELO\n",
    "#---------------------------------------------------------------------------------------------\n",
    "modelo = RandomForestClassifier(random_state      = 1, n_estimators      = 666, min_samples_split = 2, \n",
    "                                min_samples_leaf  = 1, n_jobs            = 1)\n",
    "modelo.fit(X = train_rob, y = target_train)\n",
    "\n",
    "\n",
    "# PREDICCION\n",
    "#---------------------------------------------------------------------------------------------\n",
    "prediccion_rob = modelo.predict(test_rob)\n",
    "prediccion_rob"
   ]
  },
  {
   "cell_type": "code",
   "execution_count": 82,
   "metadata": {},
   "outputs": [
    {
     "name": "stdout",
     "output_type": "stream",
     "text": [
      "             precision    recall  f1-score   support\n",
      "\n",
      "          0       0.81      0.73      0.77      1675\n",
      "          1       0.78      0.85      0.82      1914\n",
      "\n",
      "avg / total       0.80      0.79      0.79      3589\n",
      "\n",
      "*******************************************************\n",
      "PREDICCION     0     1\n",
      "REAL                  \n",
      "0           1221   454\n",
      "1            283  1631\n"
     ]
    }
   ],
   "source": [
    "# METRICAS\n",
    "#---------------------------------------------------------------------------------------------\n",
    "print(metrics.classification_report(y_true=target_test, y_pred=prediccion_rob))\n",
    "print('*******************************************************')\n",
    "print(pd.crosstab(target_test, prediccion_rob, rownames=['REAL'], colnames=['PREDICCION']))\n"
   ]
  },
  {
   "cell_type": "markdown",
   "metadata": {},
   "source": [
    "Como podemos ver en la matriz de confusión y en las metricas que hemos obtenido del modelo vemos que tiene una precision del 80%."
   ]
  }
 ],
 "metadata": {
  "kernelspec": {
   "display_name": "Python 3",
   "language": "python",
   "name": "python3"
  },
  "language_info": {
   "codemirror_mode": {
    "name": "ipython",
    "version": 3
   },
   "file_extension": ".py",
   "mimetype": "text/x-python",
   "name": "python",
   "nbconvert_exporter": "python",
   "pygments_lexer": "ipython3",
   "version": "3.6.4"
  }
 },
 "nbformat": 4,
 "nbformat_minor": 2
}
